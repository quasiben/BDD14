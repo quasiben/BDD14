{
 "metadata": {
  "name": "",
  "signature": "sha256:e58ffe74a36c02c2b5a944ff025add319a8efd72733c28537ec97288a7d0cc8e"
 },
 "nbformat": 3,
 "nbformat_minor": 0,
 "worksheets": [
  {
   "cells": [
    {
     "cell_type": "markdown",
     "metadata": {},
     "source": [
      "##Diabetes: A data intesive disease\n",
      "\n",
      "- High levels of blood glucose resulting from errors in insulin production\n",
      "- 25.8 million Americans have diabetes \n",
      " - 8.3 percent of the U.S. population \n",
      " - 13.0 million men have diabetes (11.8 percent of all men ages 20 years and older).\n",
      " - 12.6 million women have diabetes (10.8 percent of all women ages 20 years and older).\n",
      "- 347 million people worldwide have diabetes\n",
      "\n",
      "(source: NIH/WHO)"
     ]
    },
    {
     "cell_type": "markdown",
     "metadata": {},
     "source": [
      "#CGM EXAMPLE\n",
      "\n",
      "Grab some data\n",
      "\n",
      "- Continuous glucose monitor timeseries\n",
      "- 8 months worth of ~5min samples of blood glucose\n",
      "- data csv:\n",
      " - datetime of measurement\n",
      " - isig (current/voltage of measurement\n",
      " - glucose: converted isig value\n",
      "- data originates from a juvenile type I diabetic\n"
     ]
    },
    {
     "cell_type": "code",
     "collapsed": true,
     "input": [
      "import pandas as pd\n",
      "%pylab inline"
     ],
     "language": "python",
     "metadata": {},
     "outputs": [
      {
       "output_type": "stream",
       "stream": "stdout",
       "text": [
        "Populating the interactive namespace from numpy and matplotlib\n"
       ]
      }
     ],
     "prompt_number": 1
    },
    {
     "cell_type": "code",
     "collapsed": true,
     "input": [
      "import requests\n",
      "url = 'http://files.figshare.com/1113528/CGM.csv'\n",
      "r = requests.get(url)\n",
      "\n",
      "fname = 'CGM.csv'\n",
      "with open(fname,'w') as f:\n",
      "    f.write(r.text)"
     ],
     "language": "python",
     "metadata": {},
     "outputs": [],
     "prompt_number": 2
    },
    {
     "cell_type": "code",
     "collapsed": false,
     "input": [
      "!ls"
     ],
     "language": "python",
     "metadata": {},
     "outputs": [
      {
       "output_type": "stream",
       "stream": "stdout",
       "text": [
        "AnacondaCondaIntro.ipynb      CGM.csv                       MyNewPresentation.slides.html ca_website.png                zenofpython.py\r\n",
        "AnacondaIPythonSetup.ipynb    CGM_DEMO.ipynb                NumPy_Deps.png                index.html                    zenofpython.pyc\r\n",
        "Anaconda_Launcher.png         MyNewPresentation.ipynb       README.md                     \u001b[34mreveal.js\u001b[m\u001b[m\r\n"
       ]
      }
     ],
     "prompt_number": 3
    },
    {
     "cell_type": "markdown",
     "metadata": {},
     "source": [
      "##Getting Help\n",
      "\n",
      "- Use the Page\n",
      "  - name? brings up help\n",
      "  - name?? tries to show source code \n",
      "  - For finding a name use wildcards *name*?\n",
      "  - %quickref if you get lost\n",
      "\n"
     ]
    },
    {
     "cell_type": "code",
     "collapsed": false,
     "input": [
      "requests?"
     ],
     "language": "python",
     "metadata": {},
     "outputs": [],
     "prompt_number": 6
    },
    {
     "cell_type": "markdown",
     "metadata": {},
     "source": [
      "###Load CSV and Print first few lines"
     ]
    },
    {
     "cell_type": "code",
     "collapsed": false,
     "input": [
      "!cat CGM.csv | head "
     ],
     "language": "python",
     "metadata": {},
     "outputs": [
      {
       "output_type": "stream",
       "stream": "stdout",
       "text": [
        "isig,datetime,glucose\r",
        "\r\n",
        "22.59,2010-03-24 09:51:00,258\r",
        "\r\n",
        "22.52,2010-03-24 09:56:00,260\r",
        "\r\n",
        "22.23,2010-03-24 10:01:00,258\r",
        "\r\n",
        "21.56,2010-03-24 10:06:00,254\r",
        "\r\n",
        "20.79,2010-03-24 10:11:00,246\r",
        "\r\n",
        "19.97,2010-03-24 10:16:00,238\r",
        "\r\n",
        "19.35,2010-03-24 10:21:00,230\r",
        "\r\n",
        "18.86,2010-03-24 10:26:00,224\r",
        "\r\n",
        "18.15,2010-03-24 10:31:00,216\r",
        "\r\n",
        "cat: stdout: Broken pipe\r\n"
       ]
      }
     ],
     "prompt_number": 10
    },
    {
     "cell_type": "code",
     "collapsed": true,
     "input": [
      "df = pd.read_csv('CGM.CSV')\n",
      "df.head()"
     ],
     "language": "python",
     "metadata": {},
     "outputs": [
      {
       "html": [
        "<div style=\"max-height:1000px;max-width:1500px;overflow:auto;\">\n",
        "<table border=\"1\" class=\"dataframe\">\n",
        "  <thead>\n",
        "    <tr style=\"text-align: right;\">\n",
        "      <th></th>\n",
        "      <th>isig</th>\n",
        "      <th>datetime</th>\n",
        "      <th>glucose</th>\n",
        "    </tr>\n",
        "  </thead>\n",
        "  <tbody>\n",
        "    <tr>\n",
        "      <th>0</th>\n",
        "      <td> 22.59</td>\n",
        "      <td> 2010-03-24 09:51:00</td>\n",
        "      <td> 258</td>\n",
        "    </tr>\n",
        "    <tr>\n",
        "      <th>1</th>\n",
        "      <td> 22.52</td>\n",
        "      <td> 2010-03-24 09:56:00</td>\n",
        "      <td> 260</td>\n",
        "    </tr>\n",
        "    <tr>\n",
        "      <th>2</th>\n",
        "      <td> 22.23</td>\n",
        "      <td> 2010-03-24 10:01:00</td>\n",
        "      <td> 258</td>\n",
        "    </tr>\n",
        "    <tr>\n",
        "      <th>3</th>\n",
        "      <td> 21.56</td>\n",
        "      <td> 2010-03-24 10:06:00</td>\n",
        "      <td> 254</td>\n",
        "    </tr>\n",
        "    <tr>\n",
        "      <th>4</th>\n",
        "      <td> 20.79</td>\n",
        "      <td> 2010-03-24 10:11:00</td>\n",
        "      <td> 246</td>\n",
        "    </tr>\n",
        "  </tbody>\n",
        "</table>\n",
        "<p>5 rows \u00d7 3 columns</p>\n",
        "</div>"
       ],
       "metadata": {},
       "output_type": "pyout",
       "prompt_number": 9,
       "text": [
        "    isig             datetime  glucose\n",
        "0  22.59  2010-03-24 09:51:00      258\n",
        "1  22.52  2010-03-24 09:56:00      260\n",
        "2  22.23  2010-03-24 10:01:00      258\n",
        "3  21.56  2010-03-24 10:06:00      254\n",
        "4  20.79  2010-03-24 10:11:00      246\n",
        "\n",
        "[5 rows x 3 columns]"
       ]
      }
     ],
     "prompt_number": 9
    },
    {
     "cell_type": "markdown",
     "metadata": {},
     "source": [
      "Pandas has advanced CSV loading and parsing.  Instead of the vanilla read_csv let's add arguments for parsing the datetime column as datetime objects and set that column as the index"
     ]
    },
    {
     "cell_type": "code",
     "collapsed": true,
     "input": [
      "df = pd.read_csv('CGM.csv',sep=',',parse_dates=[1],index_col=1)\n",
      "df.head(5)"
     ],
     "language": "python",
     "metadata": {},
     "outputs": [
      {
       "html": [
        "<div style=\"max-height:1000px;max-width:1500px;overflow:auto;\">\n",
        "<table border=\"1\" class=\"dataframe\">\n",
        "  <thead>\n",
        "    <tr style=\"text-align: right;\">\n",
        "      <th></th>\n",
        "      <th>isig</th>\n",
        "      <th>glucose</th>\n",
        "    </tr>\n",
        "    <tr>\n",
        "      <th>datetime</th>\n",
        "      <th></th>\n",
        "      <th></th>\n",
        "    </tr>\n",
        "  </thead>\n",
        "  <tbody>\n",
        "    <tr>\n",
        "      <th>2010-03-24 09:51:00</th>\n",
        "      <td> 22.59</td>\n",
        "      <td> 258</td>\n",
        "    </tr>\n",
        "    <tr>\n",
        "      <th>2010-03-24 09:56:00</th>\n",
        "      <td> 22.52</td>\n",
        "      <td> 260</td>\n",
        "    </tr>\n",
        "    <tr>\n",
        "      <th>2010-03-24 10:01:00</th>\n",
        "      <td> 22.23</td>\n",
        "      <td> 258</td>\n",
        "    </tr>\n",
        "    <tr>\n",
        "      <th>2010-03-24 10:06:00</th>\n",
        "      <td> 21.56</td>\n",
        "      <td> 254</td>\n",
        "    </tr>\n",
        "    <tr>\n",
        "      <th>2010-03-24 10:11:00</th>\n",
        "      <td> 20.79</td>\n",
        "      <td> 246</td>\n",
        "    </tr>\n",
        "  </tbody>\n",
        "</table>\n",
        "<p>5 rows \u00d7 2 columns</p>\n",
        "</div>"
       ],
       "metadata": {},
       "output_type": "pyout",
       "prompt_number": 11,
       "text": [
        "                      isig  glucose\n",
        "datetime                           \n",
        "2010-03-24 09:51:00  22.59      258\n",
        "2010-03-24 09:56:00  22.52      260\n",
        "2010-03-24 10:01:00  22.23      258\n",
        "2010-03-24 10:06:00  21.56      254\n",
        "2010-03-24 10:11:00  20.79      246\n",
        "\n",
        "[5 rows x 2 columns]"
       ]
      }
     ],
     "prompt_number": 11
    },
    {
     "cell_type": "markdown",
     "metadata": {},
     "source": [
      "Now we can index into dataframe through dates.  print values on october 24th 2010 from 10am to 10:30am"
     ]
    },
    {
     "cell_type": "code",
     "collapsed": true,
     "input": [
      "df.ix['2010-03-24 15:00':'2010-03-24 16:40']"
     ],
     "language": "python",
     "metadata": {},
     "outputs": [
      {
       "html": [
        "<div style=\"max-height:1000px;max-width:1500px;overflow:auto;\">\n",
        "<table border=\"1\" class=\"dataframe\">\n",
        "  <thead>\n",
        "    <tr style=\"text-align: right;\">\n",
        "      <th></th>\n",
        "      <th>isig</th>\n",
        "      <th>glucose</th>\n",
        "    </tr>\n",
        "    <tr>\n",
        "      <th>datetime</th>\n",
        "      <th></th>\n",
        "      <th></th>\n",
        "    </tr>\n",
        "  </thead>\n",
        "  <tbody>\n",
        "    <tr>\n",
        "      <th>2010-03-24 15:01:00</th>\n",
        "      <td> 11.26</td>\n",
        "      <td> 114</td>\n",
        "    </tr>\n",
        "    <tr>\n",
        "      <th>2010-03-24 15:06:00</th>\n",
        "      <td> 11.77</td>\n",
        "      <td> 120</td>\n",
        "    </tr>\n",
        "    <tr>\n",
        "      <th>2010-03-24 15:11:00</th>\n",
        "      <td> 12.38</td>\n",
        "      <td> 128</td>\n",
        "    </tr>\n",
        "    <tr>\n",
        "      <th>2010-03-24 15:16:00</th>\n",
        "      <td> 12.87</td>\n",
        "      <td> 134</td>\n",
        "    </tr>\n",
        "    <tr>\n",
        "      <th>2010-03-24 15:21:00</th>\n",
        "      <td> 12.92</td>\n",
        "      <td> 138</td>\n",
        "    </tr>\n",
        "    <tr>\n",
        "      <th>2010-03-24 15:26:00</th>\n",
        "      <td> 12.52</td>\n",
        "      <td> 138</td>\n",
        "    </tr>\n",
        "    <tr>\n",
        "      <th>2010-03-24 15:31:00</th>\n",
        "      <td> 12.01</td>\n",
        "      <td> 134</td>\n",
        "    </tr>\n",
        "    <tr>\n",
        "      <th>2010-03-24 15:36:00</th>\n",
        "      <td> 11.52</td>\n",
        "      <td> 130</td>\n",
        "    </tr>\n",
        "    <tr>\n",
        "      <th>2010-03-24 15:41:00</th>\n",
        "      <td> 11.09</td>\n",
        "      <td> 124</td>\n",
        "    </tr>\n",
        "    <tr>\n",
        "      <th>2010-03-24 15:46:00</th>\n",
        "      <td> 10.58</td>\n",
        "      <td> 120</td>\n",
        "    </tr>\n",
        "    <tr>\n",
        "      <th>2010-03-24 15:51:00</th>\n",
        "      <td> 10.45</td>\n",
        "      <td> 116</td>\n",
        "    </tr>\n",
        "    <tr>\n",
        "      <th>2010-03-24 15:56:00</th>\n",
        "      <td> 10.26</td>\n",
        "      <td> 114</td>\n",
        "    </tr>\n",
        "    <tr>\n",
        "      <th>2010-03-24 16:01:00</th>\n",
        "      <td>  9.99</td>\n",
        "      <td> 110</td>\n",
        "    </tr>\n",
        "    <tr>\n",
        "      <th>2010-03-24 16:06:00</th>\n",
        "      <td>  9.62</td>\n",
        "      <td> 108</td>\n",
        "    </tr>\n",
        "    <tr>\n",
        "      <th>2010-03-24 16:11:00</th>\n",
        "      <td>  9.54</td>\n",
        "      <td> 106</td>\n",
        "    </tr>\n",
        "    <tr>\n",
        "      <th>2010-03-24 16:16:00</th>\n",
        "      <td>  9.71</td>\n",
        "      <td> 104</td>\n",
        "    </tr>\n",
        "    <tr>\n",
        "      <th>2010-03-24 16:21:00</th>\n",
        "      <td>  9.69</td>\n",
        "      <td> 104</td>\n",
        "    </tr>\n",
        "    <tr>\n",
        "      <th>2010-03-24 16:26:00</th>\n",
        "      <td>  9.48</td>\n",
        "      <td> 104</td>\n",
        "    </tr>\n",
        "    <tr>\n",
        "      <th>2010-03-24 16:31:00</th>\n",
        "      <td>  9.23</td>\n",
        "      <td> 102</td>\n",
        "    </tr>\n",
        "    <tr>\n",
        "      <th>2010-03-24 16:36:00</th>\n",
        "      <td>  9.15</td>\n",
        "      <td> 100</td>\n",
        "    </tr>\n",
        "  </tbody>\n",
        "</table>\n",
        "<p>20 rows \u00d7 2 columns</p>\n",
        "</div>"
       ],
       "metadata": {},
       "output_type": "pyout",
       "prompt_number": 14,
       "text": [
        "                      isig  glucose\n",
        "datetime                           \n",
        "2010-03-24 15:01:00  11.26      114\n",
        "2010-03-24 15:06:00  11.77      120\n",
        "2010-03-24 15:11:00  12.38      128\n",
        "2010-03-24 15:16:00  12.87      134\n",
        "2010-03-24 15:21:00  12.92      138\n",
        "2010-03-24 15:26:00  12.52      138\n",
        "2010-03-24 15:31:00  12.01      134\n",
        "2010-03-24 15:36:00  11.52      130\n",
        "2010-03-24 15:41:00  11.09      124\n",
        "2010-03-24 15:46:00  10.58      120\n",
        "2010-03-24 15:51:00  10.45      116\n",
        "2010-03-24 15:56:00  10.26      114\n",
        "2010-03-24 16:01:00   9.99      110\n",
        "2010-03-24 16:06:00   9.62      108\n",
        "2010-03-24 16:11:00   9.54      106\n",
        "2010-03-24 16:16:00   9.71      104\n",
        "2010-03-24 16:21:00   9.69      104\n",
        "2010-03-24 16:26:00   9.48      104\n",
        "2010-03-24 16:31:00   9.23      102\n",
        "2010-03-24 16:36:00   9.15      100\n",
        "\n",
        "[20 rows x 2 columns]"
       ]
      }
     ],
     "prompt_number": 14
    },
    {
     "cell_type": "markdown",
     "metadata": {},
     "source": [
      "With new data a good method of introspection is plotting"
     ]
    },
    {
     "cell_type": "code",
     "collapsed": true,
     "input": [
      "df.plot()"
     ],
     "language": "python",
     "metadata": {},
     "outputs": [
      {
       "metadata": {},
       "output_type": "pyout",
       "prompt_number": 15,
       "text": [
        "<matplotlib.axes.AxesSubplot at 0x107e38550>"
       ]
      },
      {
       "metadata": {},
       "output_type": "display_data",
       "png": "[encoded data removed]",
       "text": [
        "<matplotlib.figure.Figure at 0x106b9f8d0>"
       ]
      }
     ],
     "prompt_number": 15
    },
    {
     "cell_type": "markdown",
     "metadata": {},
     "source": [
      "We've seen a number of instances of messy data and this data set is no different"
     ]
    },
    {
     "cell_type": "code",
     "collapsed": true,
     "input": [
      "print df.ix[39450:39470]"
     ],
     "language": "python",
     "metadata": {},
     "outputs": [
      {
       "output_type": "stream",
       "stream": "stdout",
       "text": [
        "                      isig  glucose\n",
        "datetime                           \n",
        "2010-08-24 09:58:00   5.78       77\n",
        "2010-08-24 10:03:00  14.46       84\n",
        "2010-08-24 10:08:00  19.38      108\n",
        "2010-08-24 10:13:00  19.92      125\n",
        "2010-08-24 10:18:00   20.2      136\n",
        "2010-08-24 10:23:00  20.34      141\n",
        "2010-08-24 10:28:00  21.04      145\n",
        "2010-08-24 10:33:00  22.54      151\n",
        "2010-08-24 12:38:00    nil      314\n",
        "2010-08-24 12:43:00    nil      288\n",
        "2010-08-24 12:48:00    nil      290\n",
        "2010-08-24 12:53:00    nil      276\n",
        "2010-08-24 12:58:00    nil      270\n",
        "2010-08-24 13:03:00    nil      270\n",
        "2010-08-24 13:08:00    nil      274\n",
        "2010-08-24 13:13:00    nil      274\n",
        "2010-08-24 13:18:00    nil      288\n",
        "2010-08-24 13:23:00    nil      292\n",
        "2010-08-24 13:28:00    nil      290\n",
        "2010-08-24 13:33:00    nil      286\n",
        "\n",
        "[20 rows x 2 columns]\n"
       ]
      }
     ],
     "prompt_number": 16
    },
    {
     "cell_type": "markdown",
     "metadata": {},
     "source": [
      "###`nil` is something which can't be plotted.  Tell pandas `nil` are the NaN values in this datasets. pandas understand NaN vals"
     ]
    },
    {
     "cell_type": "code",
     "collapsed": true,
     "input": [
      "df = pd.read_csv('CGM.csv',sep=',',parse_dates=[1],index_col=1,na_values='nil')\n",
      "df.plot()"
     ],
     "language": "python",
     "metadata": {},
     "outputs": [
      {
       "metadata": {},
       "output_type": "pyout",
       "prompt_number": 17,
       "text": [
        "<matplotlib.axes.AxesSubplot at 0x107f11310>"
       ]
      },
      {
       "metadata": {},
       "output_type": "display_data",
       "png": "[encoded data removed]",
       "text": [
        "<matplotlib.figure.Figure at 0x107f148d0>"
       ]
      }
     ],
     "prompt_number": 17
    },
    {
     "cell_type": "markdown",
     "metadata": {},
     "source": [
      "You can see the gap of missing values near Sep 2010 in the plot above"
     ]
    },
    {
     "cell_type": "markdown",
     "metadata": {},
     "source": [
      "#What to do with missing values?"
     ]
    },
    {
     "cell_type": "code",
     "collapsed": true,
     "input": [
      "print df.ix[39450:39470]"
     ],
     "language": "python",
     "metadata": {},
     "outputs": [
      {
       "output_type": "stream",
       "stream": "stdout",
       "text": [
        "                      isig  glucose\n",
        "datetime                           \n",
        "2010-08-24 09:58:00   5.78       77\n",
        "2010-08-24 10:03:00  14.46       84\n",
        "2010-08-24 10:08:00  19.38      108\n",
        "2010-08-24 10:13:00  19.92      125\n",
        "2010-08-24 10:18:00  20.20      136\n",
        "2010-08-24 10:23:00  20.34      141\n",
        "2010-08-24 10:28:00  21.04      145\n",
        "2010-08-24 10:33:00  22.54      151\n",
        "2010-08-24 12:38:00    NaN      314\n",
        "2010-08-24 12:43:00    NaN      288\n",
        "2010-08-24 12:48:00    NaN      290\n",
        "2010-08-24 12:53:00    NaN      276\n",
        "2010-08-24 12:58:00    NaN      270\n",
        "2010-08-24 13:03:00    NaN      270\n",
        "2010-08-24 13:08:00    NaN      274\n",
        "2010-08-24 13:13:00    NaN      274\n",
        "2010-08-24 13:18:00    NaN      288\n",
        "2010-08-24 13:23:00    NaN      292\n",
        "2010-08-24 13:28:00    NaN      290\n",
        "2010-08-24 13:33:00    NaN      286\n",
        "\n",
        "[20 rows x 2 columns]\n"
       ]
      }
     ],
     "prompt_number": 18
    },
    {
     "cell_type": "markdown",
     "metadata": {},
     "source": [
      "#Drop Missing Values"
     ]
    },
    {
     "cell_type": "code",
     "collapsed": true,
     "input": [
      "df_drop = df.dropna(axis=0).ix[39450:39470]\n",
      "df_drop"
     ],
     "language": "python",
     "metadata": {},
     "outputs": [
      {
       "html": [
        "<div style=\"max-height:1000px;max-width:1500px;overflow:auto;\">\n",
        "<table border=\"1\" class=\"dataframe\">\n",
        "  <thead>\n",
        "    <tr style=\"text-align: right;\">\n",
        "      <th></th>\n",
        "      <th>isig</th>\n",
        "      <th>glucose</th>\n",
        "    </tr>\n",
        "    <tr>\n",
        "      <th>datetime</th>\n",
        "      <th></th>\n",
        "      <th></th>\n",
        "    </tr>\n",
        "  </thead>\n",
        "  <tbody>\n",
        "    <tr>\n",
        "      <th>2010-08-24 09:58:00</th>\n",
        "      <td>  5.78</td>\n",
        "      <td>  77</td>\n",
        "    </tr>\n",
        "    <tr>\n",
        "      <th>2010-08-24 10:03:00</th>\n",
        "      <td> 14.46</td>\n",
        "      <td>  84</td>\n",
        "    </tr>\n",
        "    <tr>\n",
        "      <th>2010-08-24 10:08:00</th>\n",
        "      <td> 19.38</td>\n",
        "      <td> 108</td>\n",
        "    </tr>\n",
        "    <tr>\n",
        "      <th>2010-08-24 10:13:00</th>\n",
        "      <td> 19.92</td>\n",
        "      <td> 125</td>\n",
        "    </tr>\n",
        "    <tr>\n",
        "      <th>2010-08-24 10:18:00</th>\n",
        "      <td> 20.20</td>\n",
        "      <td> 136</td>\n",
        "    </tr>\n",
        "    <tr>\n",
        "      <th>2010-08-24 10:23:00</th>\n",
        "      <td> 20.34</td>\n",
        "      <td> 141</td>\n",
        "    </tr>\n",
        "    <tr>\n",
        "      <th>2010-08-24 10:28:00</th>\n",
        "      <td> 21.04</td>\n",
        "      <td> 145</td>\n",
        "    </tr>\n",
        "    <tr>\n",
        "      <th>2010-08-24 10:33:00</th>\n",
        "      <td> 22.54</td>\n",
        "      <td> 151</td>\n",
        "    </tr>\n",
        "    <tr>\n",
        "      <th>2010-08-28 13:56:00</th>\n",
        "      <td> 21.50</td>\n",
        "      <td> 162</td>\n",
        "    </tr>\n",
        "    <tr>\n",
        "      <th>2010-08-28 14:01:00</th>\n",
        "      <td> 21.18</td>\n",
        "      <td> 160</td>\n",
        "    </tr>\n",
        "    <tr>\n",
        "      <th>2010-08-28 14:06:00</th>\n",
        "      <td> 20.42</td>\n",
        "      <td> 156</td>\n",
        "    </tr>\n",
        "    <tr>\n",
        "      <th>2010-08-28 14:11:00</th>\n",
        "      <td> 19.92</td>\n",
        "      <td> 152</td>\n",
        "    </tr>\n",
        "    <tr>\n",
        "      <th>2010-08-28 14:16:00</th>\n",
        "      <td> 19.60</td>\n",
        "      <td> 178</td>\n",
        "    </tr>\n",
        "    <tr>\n",
        "      <th>2010-08-28 14:21:00</th>\n",
        "      <td> 18.88</td>\n",
        "      <td> 173</td>\n",
        "    </tr>\n",
        "    <tr>\n",
        "      <th>2010-08-28 14:26:00</th>\n",
        "      <td> 18.08</td>\n",
        "      <td> 167</td>\n",
        "    </tr>\n",
        "    <tr>\n",
        "      <th>2010-08-28 14:31:00</th>\n",
        "      <td> 17.10</td>\n",
        "      <td> 160</td>\n",
        "    </tr>\n",
        "    <tr>\n",
        "      <th>2010-08-28 14:36:00</th>\n",
        "      <td> 16.30</td>\n",
        "      <td> 152</td>\n",
        "    </tr>\n",
        "    <tr>\n",
        "      <th>2010-08-28 14:41:00</th>\n",
        "      <td> 15.74</td>\n",
        "      <td> 146</td>\n",
        "    </tr>\n",
        "    <tr>\n",
        "      <th>2010-08-28 14:46:00</th>\n",
        "      <td> 15.24</td>\n",
        "      <td> 140</td>\n",
        "    </tr>\n",
        "    <tr>\n",
        "      <th>2010-08-28 14:51:00</th>\n",
        "      <td> 14.66</td>\n",
        "      <td> 135</td>\n",
        "    </tr>\n",
        "  </tbody>\n",
        "</table>\n",
        "<p>20 rows \u00d7 2 columns</p>\n",
        "</div>"
       ],
       "metadata": {},
       "output_type": "pyout",
       "prompt_number": 19,
       "text": [
        "                      isig  glucose\n",
        "datetime                           \n",
        "2010-08-24 09:58:00   5.78       77\n",
        "2010-08-24 10:03:00  14.46       84\n",
        "2010-08-24 10:08:00  19.38      108\n",
        "2010-08-24 10:13:00  19.92      125\n",
        "2010-08-24 10:18:00  20.20      136\n",
        "2010-08-24 10:23:00  20.34      141\n",
        "2010-08-24 10:28:00  21.04      145\n",
        "2010-08-24 10:33:00  22.54      151\n",
        "2010-08-28 13:56:00  21.50      162\n",
        "2010-08-28 14:01:00  21.18      160\n",
        "2010-08-28 14:06:00  20.42      156\n",
        "2010-08-28 14:11:00  19.92      152\n",
        "2010-08-28 14:16:00  19.60      178\n",
        "2010-08-28 14:21:00  18.88      173\n",
        "2010-08-28 14:26:00  18.08      167\n",
        "2010-08-28 14:31:00  17.10      160\n",
        "2010-08-28 14:36:00  16.30      152\n",
        "2010-08-28 14:41:00  15.74      146\n",
        "2010-08-28 14:46:00  15.24      140\n",
        "2010-08-28 14:51:00  14.66      135\n",
        "\n",
        "[20 rows x 2 columns]"
       ]
      }
     ],
     "prompt_number": 19
    },
    {
     "cell_type": "markdown",
     "metadata": {},
     "source": [
      "Jump in time from 10:30am to 13:56 (1:56 pm)"
     ]
    },
    {
     "cell_type": "markdown",
     "metadata": {},
     "source": [
      "#Fill With Limit"
     ]
    },
    {
     "cell_type": "code",
     "collapsed": true,
     "input": [
      "df.ix[39460:39470]"
     ],
     "language": "python",
     "metadata": {},
     "outputs": [
      {
       "html": [
        "<div style=\"max-height:1000px;max-width:1500px;overflow:auto;\">\n",
        "<table border=\"1\" class=\"dataframe\">\n",
        "  <thead>\n",
        "    <tr style=\"text-align: right;\">\n",
        "      <th></th>\n",
        "      <th>isig</th>\n",
        "      <th>glucose</th>\n",
        "    </tr>\n",
        "    <tr>\n",
        "      <th>datetime</th>\n",
        "      <th></th>\n",
        "      <th></th>\n",
        "    </tr>\n",
        "  </thead>\n",
        "  <tbody>\n",
        "    <tr>\n",
        "      <th>2010-08-24 12:48:00</th>\n",
        "      <td>NaN</td>\n",
        "      <td> 290</td>\n",
        "    </tr>\n",
        "    <tr>\n",
        "      <th>2010-08-24 12:53:00</th>\n",
        "      <td>NaN</td>\n",
        "      <td> 276</td>\n",
        "    </tr>\n",
        "    <tr>\n",
        "      <th>2010-08-24 12:58:00</th>\n",
        "      <td>NaN</td>\n",
        "      <td> 270</td>\n",
        "    </tr>\n",
        "    <tr>\n",
        "      <th>2010-08-24 13:03:00</th>\n",
        "      <td>NaN</td>\n",
        "      <td> 270</td>\n",
        "    </tr>\n",
        "    <tr>\n",
        "      <th>2010-08-24 13:08:00</th>\n",
        "      <td>NaN</td>\n",
        "      <td> 274</td>\n",
        "    </tr>\n",
        "    <tr>\n",
        "      <th>2010-08-24 13:13:00</th>\n",
        "      <td>NaN</td>\n",
        "      <td> 274</td>\n",
        "    </tr>\n",
        "    <tr>\n",
        "      <th>2010-08-24 13:18:00</th>\n",
        "      <td>NaN</td>\n",
        "      <td> 288</td>\n",
        "    </tr>\n",
        "    <tr>\n",
        "      <th>2010-08-24 13:23:00</th>\n",
        "      <td>NaN</td>\n",
        "      <td> 292</td>\n",
        "    </tr>\n",
        "    <tr>\n",
        "      <th>2010-08-24 13:28:00</th>\n",
        "      <td>NaN</td>\n",
        "      <td> 290</td>\n",
        "    </tr>\n",
        "    <tr>\n",
        "      <th>2010-08-24 13:33:00</th>\n",
        "      <td>NaN</td>\n",
        "      <td> 286</td>\n",
        "    </tr>\n",
        "  </tbody>\n",
        "</table>\n",
        "<p>10 rows \u00d7 2 columns</p>\n",
        "</div>"
       ],
       "metadata": {},
       "output_type": "pyout",
       "prompt_number": 20,
       "text": [
        "                     isig  glucose\n",
        "datetime                          \n",
        "2010-08-24 12:48:00   NaN      290\n",
        "2010-08-24 12:53:00   NaN      276\n",
        "2010-08-24 12:58:00   NaN      270\n",
        "2010-08-24 13:03:00   NaN      270\n",
        "2010-08-24 13:08:00   NaN      274\n",
        "2010-08-24 13:13:00   NaN      274\n",
        "2010-08-24 13:18:00   NaN      288\n",
        "2010-08-24 13:23:00   NaN      292\n",
        "2010-08-24 13:28:00   NaN      290\n",
        "2010-08-24 13:33:00   NaN      286\n",
        "\n",
        "[10 rows x 2 columns]"
       ]
      }
     ],
     "prompt_number": 20
    },
    {
     "cell_type": "code",
     "collapsed": true,
     "input": [
      "df.fillna(method='pad',limit=5).ix[39450:39470]"
     ],
     "language": "python",
     "metadata": {},
     "outputs": [
      {
       "html": [
        "<div style=\"max-height:1000px;max-width:1500px;overflow:auto;\">\n",
        "<table border=\"1\" class=\"dataframe\">\n",
        "  <thead>\n",
        "    <tr style=\"text-align: right;\">\n",
        "      <th></th>\n",
        "      <th>isig</th>\n",
        "      <th>glucose</th>\n",
        "    </tr>\n",
        "    <tr>\n",
        "      <th>datetime</th>\n",
        "      <th></th>\n",
        "      <th></th>\n",
        "    </tr>\n",
        "  </thead>\n",
        "  <tbody>\n",
        "    <tr>\n",
        "      <th>2010-08-24 09:58:00</th>\n",
        "      <td>  5.78</td>\n",
        "      <td>  77</td>\n",
        "    </tr>\n",
        "    <tr>\n",
        "      <th>2010-08-24 10:03:00</th>\n",
        "      <td> 14.46</td>\n",
        "      <td>  84</td>\n",
        "    </tr>\n",
        "    <tr>\n",
        "      <th>2010-08-24 10:08:00</th>\n",
        "      <td> 19.38</td>\n",
        "      <td> 108</td>\n",
        "    </tr>\n",
        "    <tr>\n",
        "      <th>2010-08-24 10:13:00</th>\n",
        "      <td> 19.92</td>\n",
        "      <td> 125</td>\n",
        "    </tr>\n",
        "    <tr>\n",
        "      <th>2010-08-24 10:18:00</th>\n",
        "      <td> 20.20</td>\n",
        "      <td> 136</td>\n",
        "    </tr>\n",
        "    <tr>\n",
        "      <th>2010-08-24 10:23:00</th>\n",
        "      <td> 20.34</td>\n",
        "      <td> 141</td>\n",
        "    </tr>\n",
        "    <tr>\n",
        "      <th>2010-08-24 10:28:00</th>\n",
        "      <td> 21.04</td>\n",
        "      <td> 145</td>\n",
        "    </tr>\n",
        "    <tr>\n",
        "      <th>2010-08-24 10:33:00</th>\n",
        "      <td> 22.54</td>\n",
        "      <td> 151</td>\n",
        "    </tr>\n",
        "    <tr>\n",
        "      <th>2010-08-24 12:38:00</th>\n",
        "      <td> 22.54</td>\n",
        "      <td> 314</td>\n",
        "    </tr>\n",
        "    <tr>\n",
        "      <th>2010-08-24 12:43:00</th>\n",
        "      <td> 22.54</td>\n",
        "      <td> 288</td>\n",
        "    </tr>\n",
        "    <tr>\n",
        "      <th>2010-08-24 12:48:00</th>\n",
        "      <td> 22.54</td>\n",
        "      <td> 290</td>\n",
        "    </tr>\n",
        "    <tr>\n",
        "      <th>2010-08-24 12:53:00</th>\n",
        "      <td> 22.54</td>\n",
        "      <td> 276</td>\n",
        "    </tr>\n",
        "    <tr>\n",
        "      <th>2010-08-24 12:58:00</th>\n",
        "      <td> 22.54</td>\n",
        "      <td> 270</td>\n",
        "    </tr>\n",
        "    <tr>\n",
        "      <th>2010-08-24 13:03:00</th>\n",
        "      <td>   NaN</td>\n",
        "      <td> 270</td>\n",
        "    </tr>\n",
        "    <tr>\n",
        "      <th>2010-08-24 13:08:00</th>\n",
        "      <td>   NaN</td>\n",
        "      <td> 274</td>\n",
        "    </tr>\n",
        "    <tr>\n",
        "      <th>2010-08-24 13:13:00</th>\n",
        "      <td>   NaN</td>\n",
        "      <td> 274</td>\n",
        "    </tr>\n",
        "    <tr>\n",
        "      <th>2010-08-24 13:18:00</th>\n",
        "      <td>   NaN</td>\n",
        "      <td> 288</td>\n",
        "    </tr>\n",
        "    <tr>\n",
        "      <th>2010-08-24 13:23:00</th>\n",
        "      <td>   NaN</td>\n",
        "      <td> 292</td>\n",
        "    </tr>\n",
        "    <tr>\n",
        "      <th>2010-08-24 13:28:00</th>\n",
        "      <td>   NaN</td>\n",
        "      <td> 290</td>\n",
        "    </tr>\n",
        "    <tr>\n",
        "      <th>2010-08-24 13:33:00</th>\n",
        "      <td>   NaN</td>\n",
        "      <td> 286</td>\n",
        "    </tr>\n",
        "  </tbody>\n",
        "</table>\n",
        "<p>20 rows \u00d7 2 columns</p>\n",
        "</div>"
       ],
       "metadata": {},
       "output_type": "pyout",
       "prompt_number": 21,
       "text": [
        "                      isig  glucose\n",
        "datetime                           \n",
        "2010-08-24 09:58:00   5.78       77\n",
        "2010-08-24 10:03:00  14.46       84\n",
        "2010-08-24 10:08:00  19.38      108\n",
        "2010-08-24 10:13:00  19.92      125\n",
        "2010-08-24 10:18:00  20.20      136\n",
        "2010-08-24 10:23:00  20.34      141\n",
        "2010-08-24 10:28:00  21.04      145\n",
        "2010-08-24 10:33:00  22.54      151\n",
        "2010-08-24 12:38:00  22.54      314\n",
        "2010-08-24 12:43:00  22.54      288\n",
        "2010-08-24 12:48:00  22.54      290\n",
        "2010-08-24 12:53:00  22.54      276\n",
        "2010-08-24 12:58:00  22.54      270\n",
        "2010-08-24 13:03:00    NaN      270\n",
        "2010-08-24 13:08:00    NaN      274\n",
        "2010-08-24 13:13:00    NaN      274\n",
        "2010-08-24 13:18:00    NaN      288\n",
        "2010-08-24 13:23:00    NaN      292\n",
        "2010-08-24 13:28:00    NaN      290\n",
        "2010-08-24 13:33:00    NaN      286\n",
        "\n",
        "[20 rows x 2 columns]"
       ]
      }
     ],
     "prompt_number": 21
    },
    {
     "cell_type": "markdown",
     "metadata": {},
     "source": [
      "Fills up to 5 consecutive rows with value preceding NaNs\n",
      "\n"
     ]
    },
    {
     "cell_type": "markdown",
     "metadata": {},
     "source": [
      "#Fill Values with 0"
     ]
    },
    {
     "cell_type": "code",
     "collapsed": true,
     "input": [
      "df.fillna(0).ix[39460:39470]"
     ],
     "language": "python",
     "metadata": {},
     "outputs": [
      {
       "html": [
        "<div style=\"max-height:1000px;max-width:1500px;overflow:auto;\">\n",
        "<table border=\"1\" class=\"dataframe\">\n",
        "  <thead>\n",
        "    <tr style=\"text-align: right;\">\n",
        "      <th></th>\n",
        "      <th>isig</th>\n",
        "      <th>glucose</th>\n",
        "    </tr>\n",
        "    <tr>\n",
        "      <th>datetime</th>\n",
        "      <th></th>\n",
        "      <th></th>\n",
        "    </tr>\n",
        "  </thead>\n",
        "  <tbody>\n",
        "    <tr>\n",
        "      <th>2010-08-24 12:48:00</th>\n",
        "      <td> 0</td>\n",
        "      <td> 290</td>\n",
        "    </tr>\n",
        "    <tr>\n",
        "      <th>2010-08-24 12:53:00</th>\n",
        "      <td> 0</td>\n",
        "      <td> 276</td>\n",
        "    </tr>\n",
        "    <tr>\n",
        "      <th>2010-08-24 12:58:00</th>\n",
        "      <td> 0</td>\n",
        "      <td> 270</td>\n",
        "    </tr>\n",
        "    <tr>\n",
        "      <th>2010-08-24 13:03:00</th>\n",
        "      <td> 0</td>\n",
        "      <td> 270</td>\n",
        "    </tr>\n",
        "    <tr>\n",
        "      <th>2010-08-24 13:08:00</th>\n",
        "      <td> 0</td>\n",
        "      <td> 274</td>\n",
        "    </tr>\n",
        "    <tr>\n",
        "      <th>2010-08-24 13:13:00</th>\n",
        "      <td> 0</td>\n",
        "      <td> 274</td>\n",
        "    </tr>\n",
        "    <tr>\n",
        "      <th>2010-08-24 13:18:00</th>\n",
        "      <td> 0</td>\n",
        "      <td> 288</td>\n",
        "    </tr>\n",
        "    <tr>\n",
        "      <th>2010-08-24 13:23:00</th>\n",
        "      <td> 0</td>\n",
        "      <td> 292</td>\n",
        "    </tr>\n",
        "    <tr>\n",
        "      <th>2010-08-24 13:28:00</th>\n",
        "      <td> 0</td>\n",
        "      <td> 290</td>\n",
        "    </tr>\n",
        "    <tr>\n",
        "      <th>2010-08-24 13:33:00</th>\n",
        "      <td> 0</td>\n",
        "      <td> 286</td>\n",
        "    </tr>\n",
        "  </tbody>\n",
        "</table>\n",
        "<p>10 rows \u00d7 2 columns</p>\n",
        "</div>"
       ],
       "metadata": {},
       "output_type": "pyout",
       "prompt_number": 22,
       "text": [
        "                     isig  glucose\n",
        "datetime                          \n",
        "2010-08-24 12:48:00     0      290\n",
        "2010-08-24 12:53:00     0      276\n",
        "2010-08-24 12:58:00     0      270\n",
        "2010-08-24 13:03:00     0      270\n",
        "2010-08-24 13:08:00     0      274\n",
        "2010-08-24 13:13:00     0      274\n",
        "2010-08-24 13:18:00     0      288\n",
        "2010-08-24 13:23:00     0      292\n",
        "2010-08-24 13:28:00     0      290\n",
        "2010-08-24 13:33:00     0      286\n",
        "\n",
        "[10 rows x 2 columns]"
       ]
      }
     ],
     "prompt_number": 22
    },
    {
     "cell_type": "markdown",
     "metadata": {},
     "source": [
      "No matter how you fill NaN values statistic calculations will still succesfully complete."
     ]
    },
    {
     "cell_type": "code",
     "collapsed": true,
     "input": [
      "df.describe()"
     ],
     "language": "python",
     "metadata": {},
     "outputs": [
      {
       "html": [
        "<div style=\"max-height:1000px;max-width:1500px;overflow:auto;\">\n",
        "<table border=\"1\" class=\"dataframe\">\n",
        "  <thead>\n",
        "    <tr style=\"text-align: right;\">\n",
        "      <th></th>\n",
        "      <th>isig</th>\n",
        "      <th>glucose</th>\n",
        "    </tr>\n",
        "  </thead>\n",
        "  <tbody>\n",
        "    <tr>\n",
        "      <th>count</th>\n",
        "      <td> 51220.000000</td>\n",
        "      <td> 52281.000000</td>\n",
        "    </tr>\n",
        "    <tr>\n",
        "      <th>mean</th>\n",
        "      <td>    18.812173</td>\n",
        "      <td>   137.421912</td>\n",
        "    </tr>\n",
        "    <tr>\n",
        "      <th>std</th>\n",
        "      <td>     8.395459</td>\n",
        "      <td>    53.880476</td>\n",
        "    </tr>\n",
        "    <tr>\n",
        "      <th>min</th>\n",
        "      <td>     3.880000</td>\n",
        "      <td>    40.000000</td>\n",
        "    </tr>\n",
        "    <tr>\n",
        "      <th>25%</th>\n",
        "      <td>    13.080000</td>\n",
        "      <td>    99.000000</td>\n",
        "    </tr>\n",
        "    <tr>\n",
        "      <th>50%</th>\n",
        "      <td>    17.160000</td>\n",
        "      <td>   126.000000</td>\n",
        "    </tr>\n",
        "    <tr>\n",
        "      <th>75%</th>\n",
        "      <td>    22.760000</td>\n",
        "      <td>   163.000000</td>\n",
        "    </tr>\n",
        "    <tr>\n",
        "      <th>max</th>\n",
        "      <td>    69.340000</td>\n",
        "      <td>   400.000000</td>\n",
        "    </tr>\n",
        "  </tbody>\n",
        "</table>\n",
        "<p>8 rows \u00d7 2 columns</p>\n",
        "</div>"
       ],
       "metadata": {},
       "output_type": "pyout",
       "prompt_number": 23,
       "text": [
        "               isig       glucose\n",
        "count  51220.000000  52281.000000\n",
        "mean      18.812173    137.421912\n",
        "std        8.395459     53.880476\n",
        "min        3.880000     40.000000\n",
        "25%       13.080000     99.000000\n",
        "50%       17.160000    126.000000\n",
        "75%       22.760000    163.000000\n",
        "max       69.340000    400.000000\n",
        "\n",
        "[8 rows x 2 columns]"
       ]
      }
     ],
     "prompt_number": 23
    },
    {
     "cell_type": "markdown",
     "metadata": {},
     "source": [
      "#Interpolate Values"
     ]
    },
    {
     "cell_type": "code",
     "collapsed": true,
     "input": [
      "df = df.apply(pd.Series.interpolate)\n",
      "print df.ix[39460:39470]"
     ],
     "language": "python",
     "metadata": {},
     "outputs": [
      {
       "output_type": "stream",
       "stream": "stdout",
       "text": [
        "                          isig  glucose\n",
        "datetime                               \n",
        "2010-08-24 12:48:00  22.537062      290\n",
        "2010-08-24 12:53:00  22.536083      276\n",
        "2010-08-24 12:58:00  22.535104      270\n",
        "2010-08-24 13:03:00  22.534124      270\n",
        "2010-08-24 13:08:00  22.533145      274\n",
        "2010-08-24 13:13:00  22.532166      274\n",
        "2010-08-24 13:18:00  22.531186      288\n",
        "2010-08-24 13:23:00  22.530207      292\n",
        "2010-08-24 13:28:00  22.529228      290\n",
        "2010-08-24 13:33:00  22.528249      286\n",
        "\n",
        "[10 rows x 2 columns]\n"
       ]
      }
     ],
     "prompt_number": 24
    },
    {
     "cell_type": "markdown",
     "metadata": {},
     "source": [
      "We're going to use the interpolated values for the rest of the example"
     ]
    },
    {
     "cell_type": "markdown",
     "metadata": {},
     "source": [
      "A great thing about pandas is the integrated plotting with matplotlib\n",
      "\n",
      "Index by date, plot a month worth of data"
     ]
    },
    {
     "cell_type": "code",
     "collapsed": false,
     "input": [
      "type(df.ix['2010-10-04'])"
     ],
     "language": "python",
     "metadata": {},
     "outputs": [
      {
       "metadata": {},
       "output_type": "pyout",
       "prompt_number": 28,
       "text": [
        "pandas.core.frame.DataFrame"
       ]
      }
     ],
     "prompt_number": 28
    },
    {
     "cell_type": "code",
     "collapsed": true,
     "input": [
      "dayofdata = df.ix['2010-10-04']\n",
      "dayofdata.plot()"
     ],
     "language": "python",
     "metadata": {},
     "outputs": [
      {
       "metadata": {},
       "output_type": "pyout",
       "prompt_number": 30,
       "text": [
        "<matplotlib.axes.AxesSubplot at 0x1071badd0>"
       ]
      },
      {
       "metadata": {},
       "output_type": "display_data",
       "png": "[encoded data removed]",
       "text": [
        "<matplotlib.figure.Figure at 0x105e99a90>"
       ]
      }
     ],
     "prompt_number": 30
    },
    {
     "cell_type": "code",
     "collapsed": true,
     "input": [
      "df.ix['2010-10-04':'2010-11-04'].plot()"
     ],
     "language": "python",
     "metadata": {},
     "outputs": [
      {
       "metadata": {},
       "output_type": "pyout",
       "prompt_number": 31,
       "text": [
        "<matplotlib.axes.AxesSubplot at 0x107279850>"
       ]
      },
      {
       "metadata": {},
       "output_type": "display_data",
       "png": "[encoded data removed]",
       "text": [
        "<matplotlib.figure.Figure at 0x107f163d0>"
       ]
      }
     ],
     "prompt_number": 31
    },
    {
     "cell_type": "markdown",
     "metadata": {},
     "source": [
      "###Visualize highs and lows of a day.  Healthy range for this patient is glucose level greater than 80 and glucose level lower than 180. \n",
      "\n",
      "We can used the same masked arrays we learned about in numpy section"
     ]
    },
    {
     "cell_type": "code",
     "collapsed": true,
     "input": [
      "day = df.ix['2010-10-04']\n",
      "highs = day[day['glucose'] > 180]\n",
      "lows = day[day['glucose'] < 80]\n",
      "\n",
      "figure(figsize=(9,6))\n",
      "ax = gca()\n",
      "\n",
      "day['glucose'].plot(style='k--',ax=ax)\n",
      "highs['glucose'].plot(style='ro',ax=ax)\n",
      "lows['glucose'].plot(style='bo',ax=ax)"
     ],
     "language": "python",
     "metadata": {},
     "outputs": [
      {
       "metadata": {},
       "output_type": "pyout",
       "prompt_number": 32,
       "text": [
        "<matplotlib.axes.AxesSubplot at 0x107a875d0>"
       ]
      },
      {
       "metadata": {},
       "output_type": "display_data",
       "png": "[encoded data removed]",
       "text": [
        "<matplotlib.figure.Figure at 0x107268910>"
       ]
      }
     ],
     "prompt_number": 32
    },
    {
     "cell_type": "markdown",
     "metadata": {},
     "source": [
      "###Generate a rolling statistic of when patient is in range"
     ]
    },
    {
     "cell_type": "code",
     "collapsed": true,
     "input": [
      "df['inrange'] = (df['glucose'] < 180) & (df['glucose'] > 80)"
     ],
     "language": "python",
     "metadata": {},
     "outputs": [],
     "prompt_number": 34
    },
    {
     "cell_type": "code",
     "collapsed": false,
     "input": [
      "df.tail()"
     ],
     "language": "python",
     "metadata": {},
     "outputs": [
      {
       "html": [
        "<div style=\"max-height:1000px;max-width:1500px;overflow:auto;\">\n",
        "<table border=\"1\" class=\"dataframe\">\n",
        "  <thead>\n",
        "    <tr style=\"text-align: right;\">\n",
        "      <th></th>\n",
        "      <th>isig</th>\n",
        "      <th>glucose</th>\n",
        "      <th>inrange</th>\n",
        "    </tr>\n",
        "    <tr>\n",
        "      <th>datetime</th>\n",
        "      <th></th>\n",
        "      <th></th>\n",
        "      <th></th>\n",
        "    </tr>\n",
        "  </thead>\n",
        "  <tbody>\n",
        "    <tr>\n",
        "      <th>2010-10-10 23:37:00</th>\n",
        "      <td> 29.46</td>\n",
        "      <td> 160</td>\n",
        "      <td> True</td>\n",
        "    </tr>\n",
        "    <tr>\n",
        "      <th>2010-10-10 23:42:00</th>\n",
        "      <td> 29.08</td>\n",
        "      <td> 160</td>\n",
        "      <td> True</td>\n",
        "    </tr>\n",
        "    <tr>\n",
        "      <th>2010-10-10 23:47:00</th>\n",
        "      <td> 29.06</td>\n",
        "      <td> 160</td>\n",
        "      <td> True</td>\n",
        "    </tr>\n",
        "    <tr>\n",
        "      <th>2010-10-10 23:52:00</th>\n",
        "      <td> 29.30</td>\n",
        "      <td> 161</td>\n",
        "      <td> True</td>\n",
        "    </tr>\n",
        "    <tr>\n",
        "      <th>2010-10-10 23:57:00</th>\n",
        "      <td> 30.80</td>\n",
        "      <td> 165</td>\n",
        "      <td> True</td>\n",
        "    </tr>\n",
        "  </tbody>\n",
        "</table>\n",
        "<p>5 rows \u00d7 3 columns</p>\n",
        "</div>"
       ],
       "metadata": {},
       "output_type": "pyout",
       "prompt_number": 36,
       "text": [
        "                      isig  glucose inrange\n",
        "datetime                                   \n",
        "2010-10-10 23:37:00  29.46      160    True\n",
        "2010-10-10 23:42:00  29.08      160    True\n",
        "2010-10-10 23:47:00  29.06      160    True\n",
        "2010-10-10 23:52:00  29.30      161    True\n",
        "2010-10-10 23:57:00  30.80      165    True\n",
        "\n",
        "[5 rows x 3 columns]"
       ]
      }
     ],
     "prompt_number": 36
    },
    {
     "cell_type": "code",
     "collapsed": true,
     "input": [
      "#rolling_sum\n",
      "window = 30.5*288 #288 is average number of samples in a month\n",
      "inrange = pd.rolling_sum(df.inrange,window)\n",
      "inrange = inrange.dropna()\n",
      "inrange = inrange/float(window)\n",
      "\n",
      "figure(figsize=(9,8))\n",
      "#plot\n",
      "inrange.plot()"
     ],
     "language": "python",
     "metadata": {},
     "outputs": [
      {
       "metadata": {},
       "output_type": "pyout",
       "prompt_number": 37,
       "text": [
        "<matplotlib.axes.AxesSubplot at 0x1089c1bd0>"
       ]
      },
      {
       "metadata": {},
       "output_type": "display_data",
       "png": "[encoded data removed]",
       "text": [
        "<matplotlib.figure.Figure at 0x1089c1f90>"
       ]
      }
     ],
     "prompt_number": 37
    },
    {
     "cell_type": "markdown",
     "metadata": {},
     "source": [
      "Computational Tools:\n",
      "\n",
      "* rolling_count\tNumber of non-null observations\n",
      "* rolling_sum\tSum of values\n",
      "* rolling_mean\tMean of values\n",
      "* rolling_median\tArithmetic median of values\n",
      "* rolling_window\tMoving window function\n",
      "* ..."
     ]
    }
   ],
   "metadata": {}
  }
 ]
}